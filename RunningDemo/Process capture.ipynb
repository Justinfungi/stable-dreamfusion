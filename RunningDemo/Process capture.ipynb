{
 "cells": [
  {
   "cell_type": "code",
   "execution_count": 6,
   "metadata": {
    "ExecuteTime": {
     "end_time": "2023-04-18T03:47:01.053783Z",
     "start_time": "2023-04-18T03:46:22.427147Z"
    }
   },
   "outputs": [
    {
     "name": "stdout",
     "output_type": "stream",
     "text": [
      "Namespace(H=800, O=True, O2=False, W=800, angle_front=60, angle_overhead=30, backbone='grid', bg_radius=1.4, blob_density=10, blob_radius=0.5, bound=1, ckpt='latest', cuda_ray=True, decimate_target=50000.0, default_fovy=60, default_phi=0, default_radius=1.2, default_theta=90, density_activation='softplus', density_thresh=0.1, dmtet=False, dmtet_reso_scale=8, dt_gamma=0, eval_interval=1, fovy=60, fovy_range=[40, 80], fp16=True, grad_clip=-1, grad_clip_rgb=-1, gui=False, guidance='stable-diffusion', guidance_scale=100, h=64, hf_key=None, image=None, init_ckpt='', iters=10000, jitter_pose=False, known_view_interval=2, known_view_noise_scale=0.002, known_view_scale=1.5, lambda_depth=1, lambda_entropy=0.001, lambda_guidance=1, lambda_lap=0.5, lambda_mask=1, lambda_normal=0.5, lambda_normal_smooth=0, lambda_opacity=0, lambda_orient=0.01, lambda_rgb=10, lambda_tv=0, lambda_wd=0, light_phi=0, light_theta=60, lr=0.001, max_ray_batch=4096, max_spp=1, max_steps=1024, mcubes_resolution=256, min_near=0.01, negative='', num_steps=64, optim='adan', phi_range=[-180, 180], progressive_level=False, progressive_view=False, radius=3, radius_range=[1.0, 1.5], save_mesh=True, sd_version='2.1', seed=None, t_range=[0.02, 0.98], taichi_ray=False, test=True, tet_grid_size=128, text=None, theta_range=[45, 105], uniform_sphere_rate=0, update_extra_interval=16, upsample_steps=32, vram_O=False, w=64, warmup_iters=2000, workspace='results/vase')\n",
      "NeRFNetwork(\n",
      "  (encoder): GridEncoder: input_dim=3 num_levels=16 level_dim=2 resolution=16 -> 2048 per_level_scale=1.3819 params=(6098120, 2) gridtype=hash align_corners=False interpolation=smoothstep\n",
      "  (sigma_net): MLP(\n",
      "    (net): ModuleList(\n",
      "      (0): Linear(in_features=32, out_features=64, bias=True)\n",
      "      (1): Linear(in_features=64, out_features=64, bias=True)\n",
      "      (2): Linear(in_features=64, out_features=4, bias=True)\n",
      "    )\n",
      "  )\n",
      "  (encoder_bg): FreqEncoder: input_dim=3 degree=6 output_dim=39\n",
      "  (bg_net): MLP(\n",
      "    (net): ModuleList(\n",
      "      (0): Linear(in_features=39, out_features=32, bias=True)\n",
      "      (1): Linear(in_features=32, out_features=3, bias=True)\n",
      "    )\n",
      "  )\n",
      ")\n",
      "\u001b[1m[\u001b[0mINFO\u001b[1m]\u001b[0m Cmdline: main.py --workspace results/vase -O --test --save_mesh\n",
      "\u001b[1m[\u001b[0mINFO\u001b[1m]\u001b[0m Trainer: df | \u001b[1;36m2023\u001b[0m-\u001b[1;36m04\u001b[0m-22_17-\u001b[1;36m32\u001b[0m-\u001b[1;36m32\u001b[0m | cuda | fp16 | results/vase\n",
      "\u001b[1m[\u001b[0mINFO\u001b[1m]\u001b[0m #parameters: \u001b[1;36m12204151\u001b[0m\n",
      "\u001b[1m[\u001b[0mINFO\u001b[1m]\u001b[0m Loading latest checkpoint \u001b[33m...\u001b[0m\n",
      "\u001b[1m[\u001b[0mINFO\u001b[1m]\u001b[0m Latest checkpoint is results/vase/checkpoints/df_ep0100.pth\n",
      "\u001b[1m[\u001b[0mINFO\u001b[1m]\u001b[0m loaded model.\n",
      "\u001b[1m[\u001b[0mINFO\u001b[1m]\u001b[0m load at epoch \u001b[1;36m100\u001b[0m, global step \u001b[1;36m10000\u001b[0m\n",
      "\u001b[1m[\u001b[0mWARN\u001b[1m]\u001b[0m Failed to load optimizer.\n",
      "\u001b[1m[\u001b[0mINFO\u001b[1m]\u001b[0m loaded scheduler.\n",
      "\u001b[1m[\u001b[0mINFO\u001b[1m]\u001b[0m loaded scaler.\n",
      "==> Start Test, save results to results/vase/results\n",
      "100% 100/100 [00:14<00:00,  7.61it/s]==> Finished Test.\n",
      "==> Saving mesh to results/vase/mesh\n",
      "[INFO] marching cubes thresh: 2.5 (0.0 ~ 249.85472106933594)\n",
      "[INFO] mesh cleaning: (74743, 3) --> (46200, 3), (148860, 3) --> (92290, 3)\n",
      "[INFO] mesh decimation: (46200, 3) --> (25024, 3), (92290, 3) --> (50000, 3)\n",
      "[INFO] running xatlas to unwrap UVs for mesh: v=(25024, 3) f=(50000, 3)\n",
      "[INFO] writing obj mesh to results/vase/mesh/mesh.obj\n",
      "[INFO] writing vertices (25024, 3)\n",
      "[INFO] writing vertices texture coords (36822, 2)\n",
      "[INFO] writing faces (50000, 3)\n",
      "==> Finished saving mesh.\n",
      "100% 100/100 [00:57<00:00,  1.75it/s]\n"
     ]
    }
   ],
   "source": [
    "!python main.py --workspace results/vase -O --test --save_mesh"
   ]
  },
  {
   "cell_type": "code",
   "execution_count": null,
   "metadata": {},
   "outputs": [],
   "source": []
  }
 ],
 "metadata": {
  "kernelspec": {
   "display_name": "comp3340",
   "language": "python",
   "name": "comp3340"
  },
  "language_info": {
   "codemirror_mode": {
    "name": "ipython",
    "version": 3
   },
   "file_extension": ".py",
   "mimetype": "text/x-python",
   "name": "python",
   "nbconvert_exporter": "python",
   "pygments_lexer": "ipython3",
   "version": "3.9.16"
  },
  "toc": {
   "base_numbering": 1,
   "nav_menu": {},
   "number_sections": true,
   "sideBar": true,
   "skip_h1_title": false,
   "title_cell": "Table of Contents",
   "title_sidebar": "Contents",
   "toc_cell": false,
   "toc_position": {},
   "toc_section_display": true,
   "toc_window_display": false
  },
  "varInspector": {
   "cols": {
    "lenName": 16,
    "lenType": 16,
    "lenVar": 40
   },
   "kernels_config": {
    "python": {
     "delete_cmd_postfix": "",
     "delete_cmd_prefix": "del ",
     "library": "var_list.py",
     "varRefreshCmd": "print(var_dic_list())"
    },
    "r": {
     "delete_cmd_postfix": ") ",
     "delete_cmd_prefix": "rm(",
     "library": "var_list.r",
     "varRefreshCmd": "cat(var_dic_list()) "
    }
   },
   "types_to_exclude": [
    "module",
    "function",
    "builtin_function_or_method",
    "instance",
    "_Feature"
   ],
   "window_display": false
  }
 },
 "nbformat": 4,
 "nbformat_minor": 4
}
