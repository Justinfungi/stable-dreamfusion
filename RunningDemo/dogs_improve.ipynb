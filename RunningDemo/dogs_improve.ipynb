{
 "cells": [
  {
   "cell_type": "code",
   "execution_count": 1,
   "metadata": {},
   "outputs": [],
   "source": [
    "wp = \"results/dogs_HQ\""
   ]
  },
  {
   "cell_type": "code",
   "execution_count": 1,
   "metadata": {},
   "outputs": [
    {
     "name": "stdout",
     "output_type": "stream",
     "text": [
      "Namespace(H=800, O=True, O2=False, W=800, angle_front=60, angle_overhead=30, backbone='grid', bg_radius=1.4, blob_density=10, blob_radius=0.5, bound=1, ckpt='latest', cuda_ray=True, decimate_target=50000.0, default_fovy=60, default_phi=0, default_radius=1.2, default_theta=90, density_activation='softplus', density_thresh=0.1, dmtet=False, dmtet_reso_scale=8, dt_gamma=0, eval_interval=1, fovy=60, fovy_range=[40, 80], fp16=True, grad_clip=-1, grad_clip_rgb=-1, gui=False, guidance='stable-diffusion', guidance_scale=100, h=64, hf_key=None, image=None, init_ckpt='', iters=10000, jitter_pose=False, known_view_interval=2, known_view_noise_scale=0.002, known_view_scale=1.5, lambda_depth=1, lambda_entropy=0.0001, lambda_guidance=1, lambda_lap=0.5, lambda_mask=1, lambda_normal=0.5, lambda_normal_smooth=0, lambda_opacity=0, lambda_orient=0.01, lambda_rgb=10, lambda_tv=0, lambda_wd=0, light_phi=0, light_theta=60, lr=0.001, max_ray_batch=4096, max_spp=1, max_steps=512, mcubes_resolution=256, min_near=0.01, negative='', num_steps=64, optim='adan', phi_range=[-180, 180], progressive_level=False, progressive_view=False, radius=3, radius_range=[1.0, 1.5], save_mesh=True, sd_version='2.1', seed='0', t_range=[0.02, 0.98], taichi_ray=False, test=False, tet_grid_size=128, text='Four dogs are playing chess', theta_range=[45, 105], uniform_sphere_rate=0, update_extra_interval=16, upsample_steps=32, vram_O=True, w=64, warmup_iters=2000, workspace='results/dogs_HQ')\n",
      "Traceback (most recent call last):\n",
      "  File \"main.py\", line 214, in <module>\n",
      "    model = NeRFNetwork(opt).to(device)\n",
      "  File \"/userhome/cs2/fung0311/anaconda3/lib/python3.8/site-packages/torch/nn/modules/module.py\", line 927, in to\n",
      "    return self._apply(convert)\n",
      "  File \"/userhome/cs2/fung0311/anaconda3/lib/python3.8/site-packages/torch/nn/modules/module.py\", line 579, in _apply\n",
      "    module._apply(fn)\n",
      "  File \"/userhome/cs2/fung0311/anaconda3/lib/python3.8/site-packages/torch/nn/modules/module.py\", line 602, in _apply\n",
      "    param_applied = fn(param)\n",
      "  File \"/userhome/cs2/fung0311/anaconda3/lib/python3.8/site-packages/torch/nn/modules/module.py\", line 925, in convert\n",
      "    return t.to(device, dtype if t.is_floating_point() or t.is_complex() else None, non_blocking)\n",
      "RuntimeError: CUDA error: out of memory\n",
      "CUDA kernel errors might be asynchronously reported at some other API call,so the stacktrace below might be incorrect.\n",
      "For debugging consider passing CUDA_LAUNCH_BLOCKING=1.\n"
     ]
    }
   ],
   "source": [
    "!python main.py -O --text \"Four dogs are playing chess\" \\\n",
    "    --workspace results/dogs_HQ \\\n",
    "    --iters 10000 --lr 1e-3 --seed 0 --lambda_entropy 1e-4 \\\n",
    "    --ckpt latest --save_mesh --max_steps 512 --vram_O"
   ]
  },
  {
   "cell_type": "code",
   "execution_count": null,
   "metadata": {},
   "outputs": [],
   "source": []
  }
 ],
 "metadata": {
  "kernelspec": {
   "display_name": "comp3340",
   "language": "python",
   "name": "comp3340"
  },
  "language_info": {
   "codemirror_mode": {
    "name": "ipython",
    "version": 3
   },
   "file_extension": ".py",
   "mimetype": "text/x-python",
   "name": "python",
   "nbconvert_exporter": "python",
   "pygments_lexer": "ipython3",
   "version": "3.7.13"
  }
 },
 "nbformat": 4,
 "nbformat_minor": 4
}
